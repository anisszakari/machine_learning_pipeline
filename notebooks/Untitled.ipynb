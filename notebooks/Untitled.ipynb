{
 "cells": [
  {
   "cell_type": "code",
   "execution_count": 22,
   "id": "59ecb23a-ab51-4152-8dc5-60492e873c72",
   "metadata": {},
   "outputs": [],
   "source": [
    "from collections import defaultdict\n",
    "from functools import partial "
   ]
  },
  {
   "cell_type": "code",
   "execution_count": 20,
   "id": "fe8e1db8-bcf0-44fb-9243-a35be5f631fc",
   "metadata": {},
   "outputs": [
    {
     "data": {
      "text/plain": [
       "0"
      ]
     },
     "execution_count": 20,
     "metadata": {},
     "output_type": "execute_result"
    }
   ],
   "source": [
    "a = defaultdict(int)\n",
    "b = defaultdict(lambda : a)\n",
    "b[4][5]"
   ]
  },
  {
   "cell_type": "code",
   "execution_count": 25,
   "id": "aebabf5a-2b53-482a-bdf9-6d6993a85d61",
   "metadata": {},
   "outputs": [
    {
     "data": {
      "text/plain": [
       "0"
      ]
     },
     "execution_count": 25,
     "metadata": {},
     "output_type": "execute_result"
    }
   ],
   "source": [
    "a = defaultdict(partial(defaultdict, int))\n",
    "a[4][5]"
   ]
  },
  {
   "cell_type": "code",
   "execution_count": 4,
   "id": "73204285-30c7-432e-8135-ce4abd850b93",
   "metadata": {},
   "outputs": [],
   "source": [
    "class DefaultDict(dict):\n",
    "    \n",
    "    def __init__(self, default_item):\n",
    "        self.default_item = default_item\n",
    "\n",
    "    # def set_default_item(self, default_item):\n",
    "    #     self.default_item = default_item\n",
    "        \n",
    "    def __missing__(self, key):\n",
    "        self[key] = self.default_item\n",
    "        return self.default_item"
   ]
  },
  {
   "cell_type": "code",
   "execution_count": 8,
   "id": "b695167d-fbd0-40f2-8289-fbbc22bb8d00",
   "metadata": {},
   "outputs": [
    {
     "data": {
      "text/plain": [
       "200"
      ]
     },
     "execution_count": 8,
     "metadata": {},
     "output_type": "execute_result"
    }
   ],
   "source": [
    "b = DefaultDict(200)\n",
    "a = DefaultDict(b)\n",
    "a[2][5] = 2\n",
    "a[4][3]\n"
   ]
  },
  {
   "cell_type": "code",
   "execution_count": 36,
   "id": "d5fc6e3e-3de9-4c03-bb8e-4b531731d0ba",
   "metadata": {},
   "outputs": [
    {
     "data": {
      "text/plain": [
       "200"
      ]
     },
     "execution_count": 36,
     "metadata": {},
     "output_type": "execute_result"
    }
   ],
   "source": [
    "means_ = DefaultDict()\n",
    "means_.set_default_item(200)\n",
    "a = DefaultDict()\n",
    "a.set_default_item(means_)\n",
    "a[4][3]"
   ]
  },
  {
   "cell_type": "code",
   "execution_count": null,
   "id": "735f7ce6-dbcd-44f7-a52c-ee60c7595348",
   "metadata": {},
   "outputs": [],
   "source": []
  }
 ],
 "metadata": {
  "environment": {
   "kernel": "python3",
   "name": "tf2-gpu.2-3.m87",
   "type": "gcloud",
   "uri": "gcr.io/deeplearning-platform-release/tf2-gpu.2-3:m87"
  },
  "kernelspec": {
   "display_name": "Python 3",
   "language": "python",
   "name": "python3"
  },
  "language_info": {
   "codemirror_mode": {
    "name": "ipython",
    "version": 3
   },
   "file_extension": ".py",
   "mimetype": "text/x-python",
   "name": "python",
   "nbconvert_exporter": "python",
   "pygments_lexer": "ipython3",
   "version": "3.7.12"
  }
 },
 "nbformat": 4,
 "nbformat_minor": 5
}
